{
  "nbformat": 4,
  "nbformat_minor": 0,
  "metadata": {
    "colab": {
      "name": "Deep Learning Neural Network in Python",
      "provenance": [],
      "collapsed_sections": [],
      "authorship_tag": "ABX9TyM38ywVgPlIM5N9KW9u34zD",
      "include_colab_link": true
    },
    "kernelspec": {
      "name": "python3",
      "display_name": "Python 3"
    },
    "accelerator": "GPU"
  },
  "cells": [
    {
      "cell_type": "markdown",
      "metadata": {
        "id": "view-in-github",
        "colab_type": "text"
      },
      "source": [
        "<a href=\"https://colab.research.google.com/github/shakyarujan/Deep-Learning-with-PyTorch/blob/master/Deep_Learning_Neural_Network_in_Python.ipynb\" target=\"_parent\"><img src=\"https://colab.research.google.com/assets/colab-badge.svg\" alt=\"Open In Colab\"/></a>"
      ]
    },
    {
      "cell_type": "code",
      "metadata": {
        "id": "ZIR9bBb3gFlX",
        "colab_type": "code",
        "colab": {}
      },
      "source": [
        "import torch \n",
        "import numpy as np\n",
        "import pandas as pd\n",
        "import matplotlib.pyplot as plt "
      ],
      "execution_count": 0,
      "outputs": []
    },
    {
      "cell_type": "code",
      "metadata": {
        "id": "EB8p83EKhMLV",
        "colab_type": "code",
        "colab": {}
      },
      "source": [
        "# Define Activation Function\n",
        "def activationFunction(x):\n",
        "  return 1/(1 + torch.exp(-x))"
      ],
      "execution_count": 0,
      "outputs": []
    },
    {
      "cell_type": "code",
      "metadata": {
        "id": "JfdelyiLiTiG",
        "colab_type": "code",
        "colab": {}
      },
      "source": [
        "# Generate Some Data\n",
        "torch.manual_seed(7)\n",
        "\n",
        "# Features ( 5 random normal variables)\n",
        "features = torch.randn((1,5))\n",
        "\n",
        "# Random Weights for 5 features variables\n",
        "weights = torch.randn_like(features)\n",
        "\n",
        "# Define the bias \n",
        "bias = torch.randn((1,1))\n"
      ],
      "execution_count": 0,
      "outputs": []
    },
    {
      "cell_type": "code",
      "metadata": {
        "id": "8wV6EGWrjhyp",
        "colab_type": "code",
        "colab": {}
      },
      "source": [
        "# Generate the otput from given data\n",
        "output = activationFunction((features * weights).sum() + bias)"
      ],
      "execution_count": 0,
      "outputs": []
    },
    {
      "cell_type": "code",
      "metadata": {
        "id": "bgMbBcVbj_5s",
        "colab_type": "code",
        "outputId": "41dbcbfe-4df6-4975-cda9-2e8278859975",
        "colab": {
          "base_uri": "https://localhost:8080/",
          "height": 35
        }
      },
      "source": [
        "print(output)"
      ],
      "execution_count": 0,
      "outputs": [
        {
          "output_type": "stream",
          "text": [
            "tensor([[0.1595]])\n"
          ],
          "name": "stdout"
        }
      ]
    },
    {
      "cell_type": "code",
      "metadata": {
        "id": "rT3DQU46mzL7",
        "colab_type": "code",
        "outputId": "c2cdab52-5826-4cee-b05e-80f3d21ef739",
        "colab": {
          "base_uri": "https://localhost:8080/",
          "height": 54
        }
      },
      "source": [
        "# Calculating with matrix multipication by changing the shape of weights\n",
        "# weights.reshape() - reshape the matrix structure \n",
        "# weights.resize() - change the size by cloning the previous declear size\n",
        "# weights.view() - Cloning the same size and shape of the declear weights \n",
        "new_weights = weights.view(5,1)\n",
        "print(weights)\n",
        "output = activationFunction((torch.mm(features,new_weights)) + bias)\n",
        "print(output)"
      ],
      "execution_count": 0,
      "outputs": [
        {
          "output_type": "stream",
          "text": [
            "tensor([[-0.8948, -0.3556,  1.2324,  0.1382, -1.6822]])\n",
            "tensor([[0.1595]])\n"
          ],
          "name": "stdout"
        }
      ]
    },
    {
      "cell_type": "code",
      "metadata": {
        "id": "gPCOCJiWuLL5",
        "colab_type": "code",
        "colab": {}
      },
      "source": [
        "# Multi Neural Network\n",
        "torch.manual_seed(7)\n",
        "\n",
        "new_features = torch.randn((1,3))\n",
        "\n",
        "# Define the size of each layers in our network\n",
        "n_input = new_features.shape[1]  # Input units size must match the numbers of the input features\n",
        "n_hidden = 2  # Number of hidden units\n",
        "n_output = 1  # Number of output units \n",
        "\n",
        "# Weights for input to the hidden layers\n",
        "W1 = torch.randn(n_input, n_hidden)\n",
        "\n",
        "# Weights for hidden to output layer\n",
        "W2 = torch.randn(n_hidden, n_output)\n",
        "\n",
        "# Bias for hidden layer and output layer\n",
        "B1 = torch.randn((1, n_hidden))\n",
        "B2 = torch.randn((1, n_output))\n"
      ],
      "execution_count": 0,
      "outputs": []
    },
    {
      "cell_type": "code",
      "metadata": {
        "id": "kAelWrEZ2AJd",
        "colab_type": "code",
        "outputId": "c1f074a0-1483-4c66-e52d-87298d2cc988",
        "colab": {
          "base_uri": "https://localhost:8080/",
          "height": 54
        }
      },
      "source": [
        "O1 = activationFunction(torch.mm(new_features, W1) + B1)\n",
        "O2 = activationFunction(torch.mm(O1, W2) + B2)\n",
        "\n",
        "print(O1)\n",
        "print(O2)"
      ],
      "execution_count": 0,
      "outputs": [
        {
          "output_type": "stream",
          "text": [
            "tensor([[0.6813, 0.4355]])\n",
            "tensor([[0.3171]])\n"
          ],
          "name": "stdout"
        }
      ]
    },
    {
      "cell_type": "code",
      "metadata": {
        "id": "kYmZuXgt5WGk",
        "colab_type": "code",
        "colab": {}
      },
      "source": [
        ""
      ],
      "execution_count": 0,
      "outputs": []
    }
  ]
}